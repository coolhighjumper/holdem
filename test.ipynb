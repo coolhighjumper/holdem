{
 "cells": [
  {
   "cell_type": "code",
   "execution_count": 1,
   "metadata": {
    "scrolled": false
   },
   "outputs": [
    {
     "name": "stdout",
     "output_type": "stream",
     "text": [
      "total pot: 35\n",
      "community:\n",
      "- [  ],[  ],[  ],[  ],[  ] \n",
      "players:\n",
      "0 [6♠],[Q\u001b[31m♥\u001b[0m] stack: 1990\n",
      "1 [3♣],[K\u001b[31m♦\u001b[0m] stack: 1975\n",
      "2 [  ],[  ] stack: 0\n",
      "3 [  ],[  ] stack: 0\n"
     ]
    }
   ],
   "source": [
    "import gym\n",
    "import holdem\n",
    "\n",
    "def play_out_hand(env, n_seats):\n",
    "  # reset environment, gather relevant observations\n",
    "  (player_states, (community_infos, community_cards)) = env.reset()\n",
    "  (player_infos, player_hands) = zip(*player_states)\n",
    "\n",
    "  # display the table, cards and all\n",
    "  env.render(mode='human')\n",
    "\n",
    "  terminal = True\n",
    "  while not terminal:\n",
    "    # play safe actions, check when noone else has raised, call when raised.\n",
    "    actions = holdem.safe_actions(community_infos, n_seats=n_seats)\n",
    "    (player_states, (community_infos, community_cards)), rews, terminal, info = env.step(actions)\n",
    "    env.render(mode='human')\n",
    "\n",
    "env = gym.make('TexasHoldem-v1') # holdem.TexasHoldemEnv(2)\n",
    "\n",
    "# start with 2 players\n",
    "env.add_player(0, stack=2000) # add a player to seat 0 with 2000 \"chips\"\n",
    "env.add_player(1, stack=2000) # add another player to seat 1 with 2000 \"chips\"\n",
    "# play out a hand\n",
    "play_out_hand(env, env.n_seats)\n",
    "\n",
    "# add one more player\n",
    "# env.add_player(2, stack=2000) # add another player to seat 1 with 2000 \"chips\"\n",
    "# play out another hand\n",
    "# play_out_hand(env, env.n_seats)\n"
   ]
  },
  {
   "cell_type": "code",
   "execution_count": 10,
   "metadata": {},
   "outputs": [],
   "source": [
    "import holdem\n",
    "env = gym.make('TexasHoldem-v1') # holdem.TexasHoldemEnv(2)\n",
    "env.add_player(0, stack=2000) # add a player to seat 0 with 2000 \"chips\"\n",
    "env.add_player(1, stack=2000)\n",
    "(player_states, (community_infos, community_cards)) = env.reset()\n",
    "(player_infos, player_hands) = zip(*player_states)"
   ]
  },
  {
   "cell_type": "code",
   "execution_count": 4,
   "metadata": {},
   "outputs": [
    {
     "data": {
      "text/plain": [
       "(([0, 0, 1990, 1, -1, 0, 0, 0, 0], [268454953, 16783383]),\n",
       " ([0, 1, 1975, 1, -1, 0, 0, 0, 0], [1053707, 16787479]),\n",
       " ([1, -1, 0, 0, -1, 0, 0, 0, 0], [-1, -1]),\n",
       " ([1, -1, 0, 0, -1, 0, 0, 0, 0], [-1, -1]))"
      ]
     },
     "execution_count": 4,
     "metadata": {},
     "output_type": "execute_result"
    }
   ],
   "source": [
    "player_states"
   ]
  },
  {
   "cell_type": "code",
   "execution_count": 13,
   "metadata": {},
   "outputs": [
    {
     "data": {
      "text/plain": [
       "(([0, 0, 1975, 1, -1, 1, 0, 0, 0], [268471337, 295429]),\n",
       " ([0, 1, 1975, 1, -1, 0, 0, 0, 0], [4212241, 69634]),\n",
       " ([1, -1, 0, 0, -1, 0, 0, 0, 0], [-1, -1]),\n",
       " ([1, -1, 0, 0, -1, 0, 0, 0, 0], [-1, -1]))"
      ]
     },
     "execution_count": 13,
     "metadata": {},
     "output_type": "execute_result"
    }
   ],
   "source": [
    "player_states"
   ]
  },
  {
   "cell_type": "code",
   "execution_count": 6,
   "metadata": {},
   "outputs": [
    {
     "data": {
      "text/plain": [
       "([0, 0, 1990, 1, -1, 0, 0, 0, 0],\n",
       " [0, 1, 1975, 1, -1, 0, 0, 0, 0],\n",
       " [1, -1, 0, 0, -1, 0, 0, 0, 0],\n",
       " [1, -1, 0, 0, -1, 0, 0, 0, 0])"
      ]
     },
     "execution_count": 6,
     "metadata": {},
     "output_type": "execute_result"
    }
   ],
   "source": [
    "player_infos"
   ]
  },
  {
   "cell_type": "code",
   "execution_count": 7,
   "metadata": {},
   "outputs": [
    {
     "data": {
      "text/plain": [
       "([268454953, 16783383], [1053707, 16787479], [-1, -1], [-1, -1])"
      ]
     },
     "execution_count": 7,
     "metadata": {},
     "output_type": "execute_result"
    }
   ],
   "source": [
    "player_hands"
   ]
  },
  {
   "cell_type": "code",
   "execution_count": 12,
   "metadata": {},
   "outputs": [
    {
     "data": {
      "text/plain": [
       "[-25, -25, -2000, -2000]"
      ]
     },
     "execution_count": 12,
     "metadata": {},
     "output_type": "execute_result"
    }
   ],
   "source": [
    "rews"
   ]
  },
  {
   "cell_type": "code",
   "execution_count": 11,
   "metadata": {},
   "outputs": [
    {
     "name": "stdout",
     "output_type": "stream",
     "text": [
      "total pot: 50\n",
      "last action by player 0:\n",
      "\u001b[33m- call, current bet: 25\u001b[0m\n",
      "community:\n",
      "- [  ],[  ],[  ],[  ],[  ] \n",
      "players:\n",
      "0 [A♣],[4♣] stack: 1975\n",
      "1 [8\u001b[31m♦\u001b[0m],[2♠] stack: 1975\n",
      "2 [  ],[  ] stack: 0\n",
      "3 [  ],[  ] stack: 0\n"
     ]
    }
   ],
   "source": [
    "actions = holdem.safe_actions(community_infos, n_seats=env.n_seats)\n",
    "(player_states, (community_infos, community_cards)), rews, terminal, info = env.step(actions)\n",
    "env.render(mode='human')"
   ]
  },
  {
   "cell_type": "raw",
   "metadata": {},
   "source": [
    "\n",
    "\n",
    "player_features = [\n",
    "        int(player.emptyplayer),\n",
    "        int(player.get_seat()),\n",
    "        int(player.stack),\n",
    "        int(player.playing_hand),\n",
    "        int(player.handrank),\n",
    "        int(player.playedthisround),\n",
    "        int(player.betting),\n",
    "        int(player.isallin),\n",
    "        int(player.lastsidepot),\n",
    "      ]\n",
    "      \n",
    "community_states = ([\n",
    "      int(self._button),\n",
    "      int(self._smallblind),\n",
    "      int(self._bigblind),\n",
    "      int(self._totalpot),\n",
    "      int(self._lastraise),\n",
    "      int(max(self._bigblind, self._lastraise + self._tocall)),\n",
    "      int(self._tocall - self._current_player.currentbet),\n",
    "      int(self._current_player.player_id),\n",
    "    ], self._pad(self.community, 5, -1))\n",
    "    \n",
    "    \n",
    "        's': 1,  # spades\n",
    "        'h': 2,  # hearts\n",
    "        'd': 4,  # diamonds\n",
    "        'c': 8,  # clubs\n",
    "        \n",
    "        \n",
    "        '23456789TJQKA'"
   ]
  },
  {
   "cell_type": "code",
   "execution_count": 25,
   "metadata": {},
   "outputs": [
    {
     "data": {
      "text/plain": [
       "[0, 10, 25, 50, 25, 50, 0, 1]"
      ]
     },
     "execution_count": 25,
     "metadata": {},
     "output_type": "execute_result"
    }
   ],
   "source": [
    "community_infos"
   ]
  },
  {
   "cell_type": "code",
   "execution_count": 26,
   "metadata": {},
   "outputs": [
    {
     "data": {
      "text/plain": [
       "[-1, -1, -1, -1, -1]"
      ]
     },
     "execution_count": 26,
     "metadata": {},
     "output_type": "execute_result"
    }
   ],
   "source": [
    "community_cards"
   ]
  },
  {
   "cell_type": "code",
   "execution_count": 51,
   "metadata": {},
   "outputs": [
    {
     "data": {
      "text/plain": [
       "'[T♠]'"
      ]
     },
     "execution_count": 51,
     "metadata": {},
     "output_type": "execute_result"
    }
   ],
   "source": [
    "import holdem.utils\n",
    "hello=holdem.utils.card_to_str(16783383)\n",
    "hello"
   ]
  },
  {
   "cell_type": "code",
   "execution_count": 53,
   "metadata": {},
   "outputs": [
    {
     "name": "stdout",
     "output_type": "stream",
     "text": [
      "5\n",
      "4\n"
     ]
    }
   ],
   "source": [
    "from treys import Card\n",
    "print(Card.get_rank_int(2114829))\n",
    "print(Card.get_suit_int(2114829))"
   ]
  },
  {
   "cell_type": "code",
   "execution_count": 59,
   "metadata": {},
   "outputs": [
    {
     "data": {
      "text/plain": [
       "(array([ 1, 94], dtype=int8),\n",
       " array([  1, -40], dtype=int8),\n",
       " array([ 1, 77], dtype=int8),\n",
       " array([ 1, 89], dtype=int8))"
      ]
     },
     "execution_count": 59,
     "metadata": {},
     "output_type": "execute_result"
    }
   ],
   "source": []
  },
  {
   "cell_type": "code",
   "execution_count": null,
   "metadata": {},
   "outputs": [],
   "source": []
  },
  {
   "cell_type": "code",
   "execution_count": null,
   "metadata": {},
   "outputs": [],
   "source": []
  },
  {
   "cell_type": "code",
   "execution_count": 54,
   "metadata": {},
   "outputs": [],
   "source": [
    "import tensorflow as tf"
   ]
  },
  {
   "cell_type": "code",
   "execution_count": 55,
   "metadata": {},
   "outputs": [],
   "source": [
    "class DeepQNetwork:\n",
    "    def __init__(\n",
    "            self,\n",
    "            n_actions,\n",
    "            n_features,\n",
    "            learning_rate=0.01,\n",
    "            reward_decay=0.9,\n",
    "            e_greedy=0.9,\n",
    "            replace_target_iter=300,\n",
    "            memory_size=500,\n",
    "            batch_size=32,\n",
    "            e_greedy_increment=None,\n",
    "            output_graph=False,\n",
    "    ):\n",
    "        self.n_actions = n_actions\n",
    "        self.n_features = n_features\n",
    "        self.lr = learning_rate\n",
    "        self.gamma = reward_decay\n",
    "        self.epsilon_max = e_greedy\n",
    "        self.replace_target_iter = replace_target_iter\n",
    "        self.memory_size = memory_size\n",
    "        self.batch_size = batch_size\n",
    "        self.epsilon_increment = e_greedy_increment\n",
    "        self.epsilon = 0 if e_greedy_increment is not None else self.epsilon_max\n",
    "\n",
    "        # total learning step\n",
    "        self.learn_step_counter = 0\n",
    "\n",
    "        # initialize zero memory [s, a, r, s_]\n",
    "        self.memory = np.zeros((self.memory_size, n_features * 2 + 2))\n",
    "\n",
    "        # consist of [target_net, evaluate_net]\n",
    "        self._build_net()\n",
    "        t_params = tf.get_collection('target_net_params')\n",
    "        e_params = tf.get_collection('eval_net_params')\n",
    "        self.replace_target_op = [tf.assign(t, e) for t, e in zip(t_params, e_params)]\n",
    "\n",
    "        self.sess = tf.Session()\n",
    "\n",
    "        if output_graph:\n",
    "            # $ tensorboard --logdir=logs\n",
    "            # tf.train.SummaryWriter soon be deprecated, use following\n",
    "            tf.summary.FileWriter(\"logs/\", self.sess.graph)\n",
    "\n",
    "        self.sess.run(tf.global_variables_initializer())\n",
    "        self.cost_his = []\n",
    "\n",
    "    def _build_net(self):\n",
    "        # ------------------ build evaluate_net ------------------\n",
    "        # input = state\n",
    "        # output = action\n",
    "        self.s = tf.placeholder(tf.float32, [None, self.n_features], name='s')  # input\n",
    "        self.q_target = tf.placeholder(tf.float32, [None, self.n_actions], name='Q_target')  # for calculating loss\n",
    "        with tf.variable_scope('eval_net'):\n",
    "            # c_names(collections_names) are the collections to store variables\n",
    "            c_names, n_l1, w_initializer, b_initializer = \\\n",
    "                ['eval_net_params', tf.GraphKeys.GLOBAL_VARIABLES], 10, \\\n",
    "                tf.random_normal_initializer(0., 0.3), tf.constant_initializer(0.1)  # config of layers\n",
    "\n",
    "            # first layer. collections is used later when assign to target net\n",
    "            # layer1底下的命名\n",
    "            with tf.variable_scope('l1'):\n",
    "                w1 = tf.get_variable('w1', [self.n_features, n_l1], initializer=w_initializer, collections=c_names)\n",
    "                b1 = tf.get_variable('b1', [1, n_l1], initializer=b_initializer, collections=c_names)\n",
    "                l1 = tf.nn.relu(tf.matmul(self.s, w1) + b1)\n",
    "\n",
    "            # second layer. collections is used later when assign to target net\n",
    "            # layer2底下的命名\n",
    "            with tf.variable_scope('l2'):\n",
    "                w2 = tf.get_variable('w2', [n_l1, self.n_actions], initializer=w_initializer, collections=c_names)\n",
    "                b2 = tf.get_variable('b2', [1, self.n_actions], initializer=b_initializer, collections=c_names)\n",
    "                self.q_eval = tf.matmul(l1, w2) + b2\n",
    "\n",
    "        with tf.variable_scope('loss'):\n",
    "            self.loss = tf.reduce_mean(tf.squared_difference(self.q_target, self.q_eval))\n",
    "        with tf.variable_scope('train'):\n",
    "            self._train_op = tf.train.RMSPropOptimizer(self.lr).minimize(self.loss)\n",
    "\n",
    "        # ------------------ build target_net ------------------\n",
    "        self.s_ = tf.placeholder(tf.float32, [None, self.n_features], name='s_')    # input\n",
    "        with tf.variable_scope('target_net'):\n",
    "            # c_names(collections_names) are the collections to store variables\n",
    "            c_names = ['target_net_params', tf.GraphKeys.GLOBAL_VARIABLES]\n",
    "\n",
    "            # first layer. collections is used later when assign to target net\n",
    "            with tf.variable_scope('l1'):\n",
    "                w1 = tf.get_variable('w1', [self.n_features, n_l1], initializer=w_initializer, collections=c_names)\n",
    "                b1 = tf.get_variable('b1', [1, n_l1], initializer=b_initializer, collections=c_names)\n",
    "                l1 = tf.nn.relu(tf.matmul(self.s_, w1) + b1)\n",
    "\n",
    "            # second layer. collections is used later when assign to target net\n",
    "            with tf.variable_scope('l2'):\n",
    "                w2 = tf.get_variable('w2', [n_l1, self.n_actions], initializer=w_initializer, collections=c_names)\n",
    "                b2 = tf.get_variable('b2', [1, self.n_actions], initializer=b_initializer, collections=c_names)\n",
    "                self.q_next = tf.matmul(l1, w2) + b2\n",
    "\n",
    "    def store_transition(self, s, a, r, s_):\n",
    "        if not hasattr(self, 'memory_counter'):\n",
    "            self.memory_counter = 0\n",
    "\n",
    "        transition = np.hstack((s, [a, r], s_))\n",
    "\n",
    "        # replace the old memory with new memory\n",
    "        index = self.memory_counter % self.memory_size\n",
    "        self.memory[index, :] = transition\n",
    "\n",
    "        self.memory_counter += 1\n",
    "\n",
    "    def choose_action(self, observation):\n",
    "        # to have batch dimension when feed into tf placeholder\n",
    "        observation = observation[np.newaxis, :]\n",
    "\n",
    "        if np.random.uniform() < self.epsilon:\n",
    "            # forward feed the observation and get q value for every actions\n",
    "            actions_value = self.sess.run(self.q_eval, feed_dict={self.s: observation})\n",
    "            action = np.argmax(actions_value)\n",
    "        else:\n",
    "            action = np.random.randint(0, self.n_actions)\n",
    "        return action\n",
    "\n",
    "    def learn(self):\n",
    "        # check to replace target parameters\n",
    "        if self.learn_step_counter % self.replace_target_iter == 0:\n",
    "            self.sess.run(self.replace_target_op)\n",
    "            print('\\ntarget_params_replaced\\n')\n",
    "\n",
    "        # sample batch memory from all memory\n",
    "        if self.memory_counter > self.memory_size:\n",
    "            sample_index = np.random.choice(self.memory_size, size=self.batch_size)\n",
    "        else:\n",
    "            sample_index = np.random.choice(self.memory_counter, size=self.batch_size)\n",
    "        batch_memory = self.memory[sample_index, :]\n",
    "\n",
    "        q_next, q_eval = self.sess.run(\n",
    "            [self.q_next, self.q_eval],\n",
    "            feed_dict={\n",
    "                self.s_: batch_memory[:, -self.n_features:],  # fixed params\n",
    "                self.s: batch_memory[:, :self.n_features],  # newest params\n",
    "            })\n",
    "\n",
    "        # change q_target w.r.t q_eval's action\n",
    "        q_target = q_eval.copy()\n",
    "\n",
    "        batch_index = np.arange(self.batch_size, dtype=np.int32)\n",
    "        eval_act_index = batch_memory[:, self.n_features].astype(int)\n",
    "        reward = batch_memory[:, self.n_features + 1]\n",
    "\n",
    "        q_target[batch_index, eval_act_index] = reward + self.gamma * np.max(q_next, axis=1)\n",
    "\n",
    "        \"\"\"\n",
    "        For example in this batch I have 2 samples and 3 actions:\n",
    "        q_eval =\n",
    "        [[1, 2, 3],\n",
    "         [4, 5, 6]]\n",
    "        q_target = q_eval =\n",
    "        [[1, 2, 3],\n",
    "         [4, 5, 6]]\n",
    "        Then change q_target with the real q_target value w.r.t the q_eval's action.\n",
    "        For example in:\n",
    "            sample 0, I took action 0, and the max q_target value is -1;\n",
    "            sample 1, I took action 2, and the max q_target value is -2:\n",
    "        q_target =\n",
    "        [[-1, 2, 3],\n",
    "         [4, 5, -2]]\n",
    "        So the (q_target - q_eval) becomes:\n",
    "        [[(-1)-(1), 0, 0],\n",
    "         [0, 0, (-2)-(6)]]\n",
    "        We then backpropagate this error w.r.t the corresponding action to network,\n",
    "        leave other action as error=0 cause we didn't choose it.\n",
    "        \"\"\"\n",
    "\n",
    "        # train eval network\n",
    "        _, self.cost = self.sess.run([self._train_op, self.loss],\n",
    "                                     feed_dict={self.s: batch_memory[:, :self.n_features],\n",
    "                                                self.q_target: q_target})\n",
    "        self.cost_his.append(self.cost)\n",
    "\n",
    "        # increasing epsilon\n",
    "        self.epsilon = self.epsilon + self.epsilon_increment if self.epsilon < self.epsilon_max else self.epsilon_max\n",
    "        self.learn_step_counter += 1\n",
    "\n",
    "    def plot_cost(self):\n",
    "        import matplotlib.pyplot as plt\n",
    "        plt.plot(np.arange(len(self.cost_his)), self.cost_his)\n",
    "        plt.ylabel('Cost')\n",
    "        plt.xlabel('training steps')\n",
    "        plt.show()"
   ]
  },
  {
   "cell_type": "code",
   "execution_count": 60,
   "metadata": {},
   "outputs": [],
   "source": [
    "class action_table:\n",
    "  CHECK = 0\n",
    "  CALL = 1\n",
    "  RAISE = 2\n",
    "  FOLD = 3"
   ]
  },
  {
   "cell_type": "code",
   "execution_count": null,
   "metadata": {},
   "outputs": [],
   "source": [
    "def run_maze():\n",
    "    step = 0\n",
    "    for episode in range(300):\n",
    "        # initial observation\n",
    "        (player_states, (community_infos, community_cards)) = env.reset()\n",
    "        (player_infos, player_hands) = zip(*player_states)\n",
    "        env.render(mode='human')\n",
    "        terminal = False\n",
    "\n",
    "        while not terminal:\n",
    "            action = RL.choose_action(observation)\n",
    "            \n",
    "            (player_states, (community_infos, community_cards)), rews, terminal, info = env.step(actions)\n",
    "            env.render(mode='human')\n",
    "            RL.store_transition(observation, action, reward, observation_)\n",
    "\n",
    "            # swap observation\n",
    "            observation = observation_\n",
    "\n",
    "            # break while loop when end of this episode\n",
    "            if done:\n",
    "                break\n",
    "            step += 1\n",
    "        # 最開頭的200步都不更新，只管亂走存到memory\n",
    "        if (step > 200):\n",
    "            RL.learn()\n",
    "\n",
    "env = gym.make('TexasHoldem-v1') # holdem.TexasHoldemEnv(2)\n",
    "\n",
    "# start with 2 players\n",
    "env.add_player(0, stack=2000) # add a player to seat 0 with 2000 \"chips\"\n",
    "env.add_player(1, stack=2000) # add another player to seat 1 with 2000 \"chips\"\n",
    "RL = DeepQNetwork(4, env.n_features,\n",
    "                  learning_rate=0.01,\n",
    "                  reward_decay=0.9,\n",
    "                  e_greedy=0.9,\n",
    "                  replace_target_iter=200,\n",
    "                  memory_size=2000,\n",
    "                  output_graph=True\n",
    "                  )\n",
    "\n",
    "RL.plot_cost()"
   ]
  }
 ],
 "metadata": {
  "kernelspec": {
   "display_name": "Python 3",
   "language": "python",
   "name": "python3"
  },
  "language_info": {
   "codemirror_mode": {
    "name": "ipython",
    "version": 3
   },
   "file_extension": ".py",
   "mimetype": "text/x-python",
   "name": "python",
   "nbconvert_exporter": "python",
   "pygments_lexer": "ipython3",
   "version": "3.6.5"
  }
 },
 "nbformat": 4,
 "nbformat_minor": 2
}
