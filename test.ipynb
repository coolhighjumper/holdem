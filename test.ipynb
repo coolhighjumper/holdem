{
 "cells": [
  {
   "cell_type": "raw",
   "metadata": {},
   "source": [
    "\n",
    "\n",
    "player_features = [\n",
    "        int(player.emptyplayer),\n",
    "        int(player.get_seat()),\n",
    "        int(player.stack),\n",
    "        int(player.playing_hand),\n",
    "        int(player.handrank),\n",
    "        int(player.playedthisround),\n",
    "        int(player.betting),\n",
    "        int(player.isallin),\n",
    "        int(player.lastsidepot),\n",
    "      ]\n",
    "      \n",
    "community_states = ([\n",
    "      int(self._button),\n",
    "      int(self._smallblind),\n",
    "      int(self._bigblind),\n",
    "      int(self._totalpot),\n",
    "      int(self._lastraise),\n",
    "      int(max(self._bigblind, self._lastraise + self._tocall)),\n",
    "      int(self._tocall - self._current_player.currentbet),\n",
    "      int(self._current_player.player_id),\n",
    "    ], self._pad(self.community, 5, -1))\n",
    "    \n",
    "    \n",
    "        's': 1,  # spades\n",
    "        'h': 2,  # hearts\n",
    "        'd': 4,  # diamonds\n",
    "        'c': 8,  # clubs\n",
    "        \n",
    "        \n",
    "        '23456789TJQKA'"
   ]
  },
  {
   "cell_type": "code",
   "execution_count": 1,
   "metadata": {},
   "outputs": [],
   "source": [
    "from treys import Card, Evaluator\n"
   ]
  },
  {
   "cell_type": "code",
   "execution_count": 2,
   "metadata": {},
   "outputs": [],
   "source": [
    "board = [Card.new('Ah'),Card.new('Kd'),Card.new('Jc')]\n",
    "hand = [Card.new('Qs'),Card.new('Th')]"
   ]
  },
  {
   "cell_type": "code",
   "execution_count": 6,
   "metadata": {},
   "outputs": [
    {
     "name": "stdout",
     "output_type": "stream",
     "text": [
      "1600\n"
     ]
    }
   ],
   "source": [
    "from treys import Evaluator\n",
    "evaluator = Evaluator()\n",
    "print(evaluator.evaluate(board,hand))"
   ]
  },
  {
   "cell_type": "code",
   "execution_count": 7,
   "metadata": {},
   "outputs": [
    {
     "ename": "KeyError",
     "evalue": "2",
     "output_type": "error",
     "traceback": [
      "\u001b[0;31m---------------------------------------------------------------------------\u001b[0m",
      "\u001b[0;31mKeyError\u001b[0m                                  Traceback (most recent call last)",
      "\u001b[0;32m<ipython-input-7-a92ada535334>\u001b[0m in \u001b[0;36m<module>\u001b[0;34m()\u001b[0m\n\u001b[1;32m      2\u001b[0m \u001b[0mhand_cards\u001b[0m\u001b[0;34m=\u001b[0m  \u001b[0;34m[\u001b[0m\u001b[0;36m67144223\u001b[0m\u001b[0;34m,\u001b[0m \u001b[0;36m1065995\u001b[0m\u001b[0;34m]\u001b[0m\u001b[0;34m\u001b[0m\u001b[0m\n\u001b[1;32m      3\u001b[0m \u001b[0mevaluator\u001b[0m \u001b[0;34m=\u001b[0m \u001b[0mEvaluator\u001b[0m\u001b[0;34m(\u001b[0m\u001b[0;34m)\u001b[0m\u001b[0;34m\u001b[0m\u001b[0m\n\u001b[0;32m----> 4\u001b[0;31m \u001b[0mprint\u001b[0m\u001b[0;34m(\u001b[0m\u001b[0mevaluator\u001b[0m\u001b[0;34m.\u001b[0m\u001b[0mevaluate\u001b[0m\u001b[0;34m(\u001b[0m\u001b[0mhand_cards\u001b[0m\u001b[0;34m,\u001b[0m \u001b[0mcommunity_card\u001b[0m\u001b[0;34m)\u001b[0m\u001b[0;34m)\u001b[0m\u001b[0;34m\u001b[0m\u001b[0m\n\u001b[0m",
      "\u001b[0;32m/usr/local/lib/python3.6/site-packages/treys/evaluator.py\u001b[0m in \u001b[0;36mevaluate\u001b[0;34m(self, cards, board)\u001b[0m\n\u001b[1;32m     33\u001b[0m         \"\"\"\n\u001b[1;32m     34\u001b[0m         \u001b[0mall_cards\u001b[0m \u001b[0;34m=\u001b[0m \u001b[0mcards\u001b[0m \u001b[0;34m+\u001b[0m \u001b[0mboard\u001b[0m\u001b[0;34m\u001b[0m\u001b[0m\n\u001b[0;32m---> 35\u001b[0;31m         \u001b[0;32mreturn\u001b[0m \u001b[0mself\u001b[0m\u001b[0;34m.\u001b[0m\u001b[0mhand_size_map\u001b[0m\u001b[0;34m[\u001b[0m\u001b[0mlen\u001b[0m\u001b[0;34m(\u001b[0m\u001b[0mall_cards\u001b[0m\u001b[0;34m)\u001b[0m\u001b[0;34m]\u001b[0m\u001b[0;34m(\u001b[0m\u001b[0mall_cards\u001b[0m\u001b[0;34m)\u001b[0m\u001b[0;34m\u001b[0m\u001b[0m\n\u001b[0m\u001b[1;32m     36\u001b[0m \u001b[0;34m\u001b[0m\u001b[0m\n\u001b[1;32m     37\u001b[0m     \u001b[0;32mdef\u001b[0m \u001b[0m_five\u001b[0m\u001b[0;34m(\u001b[0m\u001b[0mself\u001b[0m\u001b[0;34m,\u001b[0m \u001b[0mcards\u001b[0m\u001b[0;34m)\u001b[0m\u001b[0;34m:\u001b[0m\u001b[0;34m\u001b[0m\u001b[0m\n",
      "\u001b[0;31mKeyError\u001b[0m: 2"
     ]
    }
   ],
   "source": [
    "community_card=  []\n",
    "hand_cards=  [67144223, 1065995]\n",
    "evaluator = Evaluator()\n",
    "print(evaluator.evaluate(hand_cards, community_card))"
   ]
  },
  {
   "cell_type": "code",
   "execution_count": 32,
   "metadata": {},
   "outputs": [],
   "source": [
    "import math\n",
    "import holdem.utils\n",
    "import numpy as np\n",
    "import gym\n",
    "import holdem\n",
    "from treys import Card\n",
    "import holdem.DQN as DQN\n",
    "import holdem.safePlayer as safePlayer\n",
    "import tensorflow as tf\n",
    "\n",
    "class action_table:\n",
    "  CHECK = 0\n",
    "  CALL = 1\n",
    "  RAISE = 2\n",
    "  FOLD = 3\n",
    "    \n",
    "def transferCard(cards):\n",
    "    result = []\n",
    "    for i in cards:\n",
    "        rank = Card.get_rank_int(i)\n",
    "        suit = Card.get_suit_int(i)\n",
    "        suit = int(math.log2(suit))\n",
    "        result.append(suit * 13 + rank)\n",
    "    one_hot_encoding = np.zeros(52)\n",
    "    one_hot_encoding[result] += 1\n",
    "    return one_hot_encoding\n",
    "        \n",
    "def run_maze(model_list):\n",
    "    step = 0\n",
    "    how_many_round_ = [0,0,0,0]\n",
    "    stack_record=[]\n",
    "    last_rews = [3000, 3000, 3000, 3000]\n",
    "    init_stack = [3000, 3000, 3000, 3000]\n",
    "    for episode in range(1000):\n",
    "        # initial observation\n",
    "        (player_states, (community_infos, community_cards)) = env.reset()\n",
    "        (player_infos, player_hands) = zip(*player_states)\n",
    "        current_player = community_infos[-1]\n",
    "        totalpot = community_infos[3]\n",
    "        to_call = community_infos[6]\n",
    "        stack = player_infos[current_player][2]\n",
    "        handrank = player_infos[current_player][4]\n",
    "#         print(handrank)\n",
    "        betting = init_stack[current_player] - stack\n",
    "        cards = [x for x in community_cards if x!=-1] + player_hands[current_player] * 2\n",
    "#         print(player_hands)\n",
    "        cards = transferCard(cards)\n",
    "        \n",
    "        # print(community_infos)\n",
    "        \n",
    "        # env.render(mode='human')\n",
    "        terminal = False\n",
    "        how_many_round=[0,0,0,0]\n",
    "        if episode%1000==0:\n",
    "            print(episode/1000, ' round finished')\n",
    "        \n",
    "        while not terminal:\n",
    "            RL = model_list[current_player]\n",
    "            action = RL.choose_action(np.concatenate(([\n",
    "                                    totalpot,\n",
    "                                    to_call,\n",
    "                                    stack - 3000,\n",
    "                                    handrank,\n",
    "                                    betting],cards)))\n",
    "            # first reound cannot check\n",
    "#             print(action == 1 and to_call == 0)\n",
    "#             print('action = ',action)\n",
    "#             print()\n",
    "#             if (action == 0 and cards.sum() == 2.0):\n",
    "#                 action = 1\n",
    "            if(action == 1 and to_call == 0):\n",
    "                action = 0\n",
    "            # cannot check when encounter other raised\n",
    "            elif(action == 0 and to_call != 0):\n",
    "                action = 1\n",
    "            elif(action == 3 and to_call == 0):\n",
    "                action = 0\n",
    "            # print(action, cards.sum())\n",
    "            result = [[0,0],[0,0],[0,0],[0,0]]\n",
    "            result[current_player][0] = action\n",
    "            if action==2:\n",
    "                if stack < community_infos[5]:\n",
    "                    result[current_player][0] = 1\n",
    "                else:\n",
    "                    result[current_player][1] = max(community_infos[4] + 10, 25)\n",
    "            action = result\n",
    "#             if current_player == 0:\n",
    "#                 print(action[current_player])\n",
    "            # print(to_call)\n",
    "#             print('action = ',action)\n",
    "#             print('to_call = ', to_call)\n",
    "            # rewards is an array\n",
    "            (player_states_, (community_infos_, community_cards_)), rews, terminal, info = env.step(action)\n",
    "#             env.render(mode='human')\n",
    "            (player_infos_, player_hands_) = zip(*player_states)\n",
    "#             print(player_infos_)\n",
    "#             print('rewards = ', rews)\n",
    "#             print('betting = ', betting)\n",
    "#             print('terminal = ', terminal)\n",
    "#             print(stack)\n",
    "#             print('to_call= ',to_call)\n",
    "            current_player_ = community_infos_[-1]\n",
    "            betting_ = init_stack[current_player] - stack\n",
    "            totalpot_ = community_infos_[3]\n",
    "            to_call_ = community_infos_[6]\n",
    "            stack_ = player_infos_[current_player][2]\n",
    "            handrank_ = player_infos_[current_player][4]\n",
    "            cards_ = [x for x in community_cards_ if x!=-1] + player_hands[current_player_] \n",
    "            cards_ = transferCard(cards_)\n",
    "            \n",
    "            \n",
    "            RL.store_transition(np.concatenate(([\n",
    "                                totalpot,\n",
    "                                to_call,\n",
    "                                stack -3000,\n",
    "                                handrank,\n",
    "                                betting] , cards))\n",
    "                                , action, [0,0,0,0], np.concatenate(([ \n",
    "                                                        totalpot_,\n",
    "                                                        to_call_,\n",
    "                                                        stack_-3000,\n",
    "                                                        handrank_,\n",
    "                                                        betting_], cards_)), current_player)\n",
    "\n",
    "            # swap observation\n",
    "            how_many_round[current_player] += 1\n",
    "            \n",
    "            stack = stack_\n",
    "            current_player = current_player_\n",
    "            betting = betting_\n",
    "            to_call = to_call_\n",
    "            player_states = player_states_\n",
    "            community_infos = community_infos_\n",
    "            community_cards = community_cards_\n",
    "#             env.render(mode='human')\n",
    "            #print('========step{} finished========'.format(step))\n",
    "            step += 1\n",
    "        stack_record.append(rews)\n",
    "        init_stack = rews\n",
    "        this_round_rew = [0, 0, 0, 0]\n",
    "        for i in range(len(this_round_rew)):\n",
    "            this_round_rew[i] = rews[i] - last_rews[i]\n",
    "#         print('replace reward as ', this_round_rew)\n",
    "#         print('rews= ', rews)\n",
    "#         print('last_rews= ', last_rews)\n",
    "        last_rews = rews\n",
    "#         for i in range(len(this_round_rew)):\n",
    "#             if this_round_rew[i] < 0:\n",
    "#                 this_round_rew[i] *= 10\n",
    "\n",
    "        for i in range(4):\n",
    "            model_list[i].replace_transition(this_round_rew[i], how_many_round_[i], how_many_round[i])\n",
    "        if (step > 100):\n",
    "            for i in range(4):\n",
    "                model_list[i].learn()\n",
    "    return stack_record\n",
    "            \n",
    "\n",
    "# env = gym.make('TexasHoldem-v1') # holdem.TexasHoldemEnv(2)\n",
    "\n",
    "# # start with 2 players\n",
    "# env.add_player(0, stack=500000) # add a player to seat 0 with 2000 \"chips\"\n",
    "# env.add_player(1, stack=500000) # add another player to seat 1 with 2000 \"chips\"\n",
    "# env.add_player(2, stack=500000)\n",
    "# env.add_player(3, stack=500000)\n",
    "# env.add_player(4, stack=500000)\n",
    "# env.add_player(5, stack=500000)\n",
    "# env.add_player(6, stack=500000)\n",
    "# env.add_player(7, stack=500000)\n",
    "\n",
    "# tf.reset_default_graph()\n",
    "\n",
    "# RL1 = DQN.DeepQNetwork(4, 58,\n",
    "#                   learning_rate=0.01,\n",
    "#                   reward_decay=0.9,\n",
    "#                   e_greedy=0.9,\n",
    "#                   replace_target_iter=100,\n",
    "#                   memory_size=1000,\n",
    "#                   output_graph=True, nickname='1'\n",
    "#                   )\n",
    "# RL2 = DQN.DeepQNetwork(4, 58,\n",
    "#                   learning_rate=0.01,\n",
    "#                   reward_decay=0.9,\n",
    "#                   e_greedy=0.9,\n",
    "#                   replace_target_iter=100,\n",
    "#                   memory_size=500,\n",
    "#                   output_graph=True, nickname='2'\n",
    "#                   )\n",
    "# RL3 = DQN.DeepQNetwork(4, 58,\n",
    "#                   learning_rate=0.03,\n",
    "#                   reward_decay=0.9,\n",
    "#                   e_greedy=0.85,\n",
    "#                   replace_target_iter=100,\n",
    "#                   memory_size=1000,\n",
    "#                   output_graph=True, nickname='3'\n",
    "#                   )\n",
    "# RL4 = DQN.DeepQNetwork(4, 58,\n",
    "#                   learning_rate=0.04,\n",
    "#                   reward_decay=0.9,\n",
    "#                   e_greedy=0.8,\n",
    "#                   replace_target_iter=100,\n",
    "#                   memory_size=1000,\n",
    "#                   output_graph=True, nickname='4'\n",
    "#                   )\n",
    "SP = safePlayer.safePlayer()\n",
    "# RL5 = DQN.DeepQNetwork(4, 58,\n",
    "#                   learning_rate=0.05,\n",
    "#                   reward_decay=0.9,\n",
    "#                   e_greedy=0.75,\n",
    "#                   replace_target_iter=100,\n",
    "#                   memory_size=1000,\n",
    "#                   output_graph=True, nickname='5'\n",
    "#                   )\n",
    "# RL6 = DQN.DeepQNetwork(4, 58,\n",
    "#                   learning_rate=0.1,\n",
    "#                   reward_decay=0.9,\n",
    "#                   e_greedy=0.7,\n",
    "#                   replace_target_iter=100,\n",
    "#                   memory_size=1000,\n",
    "#                   output_graph=True, nickname='6'\n",
    "#                   )\n",
    "# RL7 = DQN.DeepQNetwork(4, 58,\n",
    "#                   learning_rate=0.3,\n",
    "#                   reward_decay=0.9,\n",
    "#                   e_greedy=0.65,\n",
    "#                   replace_target_iter=100,\n",
    "#                   memory_size=1000,\n",
    "#                   output_graph=True, nickname='7'\n",
    "#                   )\n",
    "# RL8 = DQN.DeepQNetwork(4, 58,\n",
    "#                   learning_rate=0.5,\n",
    "#                   reward_decay=0.9,\n",
    "#                   e_greedy=0.6,\n",
    "#                   replace_target_iter=100,\n",
    "#                   memory_size=1000,\n",
    "#                   output_graph=True, nickname='8'\n",
    "#                   )\n",
    "# final_result=[]\n",
    "# for i in range(10):\n",
    "#     stack_record = run_maze([SP, RL2, SP, SP])\n",
    "#     final_result.append(stack_record)\n",
    "# RL2.save_model()"
   ]
  },
  {
   "cell_type": "markdown",
   "metadata": {},
   "source": [
    "## save model"
   ]
  },
  {
   "cell_type": "code",
   "execution_count": 58,
   "metadata": {
    "scrolled": true
   },
   "outputs": [
    {
     "name": "stdout",
     "output_type": "stream",
     "text": [
      "0.0  round finished\n"
     ]
    }
   ],
   "source": [
    "for i in range(1):\n",
    "    env = gym.make('TexasHoldem-v1') # holdem.TexasHoldemEnv(2)\n",
    "\n",
    "    # start with 2 players\n",
    "    env.add_player(0, stack=3000) # add a player to seat 0 with 2000 \"chips\"\n",
    "    env.add_player(1, stack=3000) # add another player to seat 1 with 2000 \"chips\"\n",
    "    env.add_player(2, stack=3000)\n",
    "    env.add_player(3, stack=3000)\n",
    "    final_result=[]\n",
    "    for i in range(1):\n",
    "        stack_record = run_maze([RL2, SP, SP, SP])\n",
    "        final_result.append(stack_record)\n",
    "RL2.save_model()"
   ]
  },
  {
   "cell_type": "markdown",
   "metadata": {},
   "source": [
    "## load model"
   ]
  },
  {
   "cell_type": "code",
   "execution_count": 46,
   "metadata": {},
   "outputs": [
    {
     "name": "stdout",
     "output_type": "stream",
     "text": [
      "INFO:tensorflow:Restoring parameters from ./models/model.ckpt\n"
     ]
    }
   ],
   "source": [
    "import math\n",
    "import holdem.utils\n",
    "import numpy as np\n",
    "import gym\n",
    "import holdem\n",
    "from treys import Card\n",
    "import holdem.DQN as DQN\n",
    "import holdem.safePlayer as safePlayer\n",
    "import tensorflow as tf\n",
    "\n",
    "class action_table:\n",
    "  CHECK = 0\n",
    "  CALL = 1\n",
    "  RAISE = 2\n",
    "  FOLD = 3\n",
    "tf.reset_default_graph()\n",
    "RL2 = DQN.DeepQNetwork(4, 57,\n",
    "                  learning_rate=0.00001,\n",
    "                  reward_decay=0.999,\n",
    "                  e_greedy=0.9,\n",
    "                  replace_target_iter=500,\n",
    "                  memory_size=100,\n",
    "                  output_graph=True, nickname='2'\n",
    "                  )\n",
    "\n",
    "RL2.load_model()"
   ]
  },
  {
   "cell_type": "code",
   "execution_count": 44,
   "metadata": {},
   "outputs": [
    {
     "data": {
      "image/png": "[encoded data removed]",
      "text/plain": [
       "<Figure size 432x288 with 1 Axes>"
      ]
     },
     "metadata": {},
     "output_type": "display_data"
    }
   ],
   "source": [
    "RL2.plot_cost()"
   ]
  },
  {
   "cell_type": "code",
   "execution_count": 59,
   "metadata": {
    "scrolled": true
   },
   "outputs": [
    {
     "data": {
      "image/png": "[encoded data removed]",
      "text/plain": [
       "<Figure size 432x288 with 1 Axes>"
      ]
     },
     "metadata": {},
     "output_type": "display_data"
    }
   ],
   "source": [
    "RL2.plot_cost()"
   ]
  },
  {
   "cell_type": "code",
   "execution_count": 27,
   "metadata": {
    "scrolled": false
   },
   "outputs": [
    {
     "data": {
      "image/png": "[encoded data removed]",
      "text/plain": [
       "<Figure size 432x288 with 1 Axes>"
      ]
     },
     "metadata": {},
     "output_type": "display_data"
    }
   ],
   "source": [
    "import matplotlib.pyplot as plt\n",
    "RL2.plot_cost()"
   ]
  },
  {
   "cell_type": "code",
   "execution_count": 60,
   "metadata": {},
   "outputs": [
    {
     "name": "stderr",
     "output_type": "stream",
     "text": [
      "/usr/local/lib/python3.6/site-packages/matplotlib/legend.py:1364: UserWarning: You have mixed positional and keyword arguments, some input may be discarded.\n",
      "  warnings.warn(\"You have mixed positional and keyword \"\n"
     ]
    },
    {
     "data": {
      "image/png": "[encoded data removed]",
      "text/plain": [
       "<Figure size 432x288 with 1 Axes>"
      ]
     },
     "metadata": {},
     "output_type": "display_data"
    }
   ],
   "source": [
    "import matplotlib.pyplot as plt\n",
    "\n",
    "a0=np.array(final_result[0])\n",
    "# a1=np.array(final_result[1])\n",
    "# a2=np.array(final_result[2])\n",
    "# a3=np.array(final_result[3])\n",
    "# stack_record = np.concatenate((a0, a1, a2))\n",
    "stack_record = a0\n",
    "\n",
    "test = np.array(stack_record)\n",
    "test = np.transpose(test)\n",
    "l1 = plt.plot(np.arange(len(test[0])), test[0])\n",
    "l2 = plt.plot(np.arange(len(test[1])), test[1])\n",
    "l3 = plt.plot(np.arange(len(test[2])), test[2])\n",
    "l4 = plt.plot(np.arange(len(test[3])), test[3])\n",
    "# l5 = plt.plot(np.arange(len(test[4])), test[4])\n",
    "# l6 = plt.plot(np.arange(len(test[5])), test[5])\n",
    "# l7 = plt.plot(np.arange(len(test[6])), test[6])\n",
    "# l8 = plt.plot(np.arange(len(test[7])), test[7])\n",
    "plt.legend([l1,l2,l3,l4],labels=['player1','player2','player3','player4'])\n",
    "plt.show()"
   ]
  },
  {
   "cell_type": "code",
   "execution_count": null,
   "metadata": {},
   "outputs": [],
   "source": []
  },
  {
   "cell_type": "code",
   "execution_count": null,
   "metadata": {},
   "outputs": [],
   "source": []
  },
  {
   "cell_type": "code",
   "execution_count": 7,
   "metadata": {},
   "outputs": [],
   "source": [
    "from websocket import create_connection\n",
    "import json"
   ]
  },
  {
   "cell_type": "code",
   "execution_count": 28,
   "metadata": {},
   "outputs": [
    {
     "data": {
      "text/plain": [
       "'{\"eventName\":\"__new_peer\",\"data\":[{\"playerName\":\"f27f6f1c7c5cbf4e3e192e0a47b85300\",\"isOnline\":true},{\"playerName\":\"828d51c39c87aad9b1407d409fa58e36\",\"isOnline\":true},{\"playerName\":\"050fcc102c8dcc764e8342234da8d78f\",\"isOnline\":true},{\"playerName\":\"17a169e8c69b2effd9315975ac833b78\",\"isOnline\":true},{\"playerName\":\"a13fdaf9882ebf07cfea5f73df976e39\",\"isOnline\":true},{\"playerName\":\"2c87c27ae47f26e13a880e32fa2db327\",\"isOnline\":true},{\"playerName\":\"afb1c65720dc617c16b471157a0398b4\",\"isOnline\":true}]}'"
      ]
     },
     "execution_count": 28,
     "metadata": {},
     "output_type": "execute_result"
    }
   ],
   "source": [
    "ws = create_connection(\"ws://poker-training.vtr.trendnet.org:3001\")\n",
    "ws.send(json.dumps({\n",
    "            \"eventName\": \"__join\",\n",
    "            \"data\": {\n",
    "                \"playerName\": \"ppp\"\n",
    "            }\n",
    "        }))\n",
    "ws.recv()"
   ]
  },
  {
   "cell_type": "code",
   "execution_count": 29,
   "metadata": {},
   "outputs": [],
   "source": [
    "ws.close()"
   ]
  },
  {
   "cell_type": "code",
   "execution_count": null,
   "metadata": {},
   "outputs": [],
   "source": []
  }
 ],
 "metadata": {
  "kernelspec": {
   "display_name": "Python 3",
   "language": "python",
   "name": "python3"
  },
  "language_info": {
   "codemirror_mode": {
    "name": "ipython",
    "version": 3
   },
   "file_extension": ".py",
   "mimetype": "text/x-python",
   "name": "python",
   "nbconvert_exporter": "python",
   "pygments_lexer": "ipython3",
   "version": "3.6.5"
  }
 },
 "nbformat": 4,
 "nbformat_minor": 2
}
